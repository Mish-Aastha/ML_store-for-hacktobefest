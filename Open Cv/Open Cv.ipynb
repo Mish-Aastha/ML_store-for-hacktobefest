{
 "cells": [
  {
   "cell_type": "markdown",
   "metadata": {},
   "source": [
    "# Drawing imgaes and shapes using open cv\n",
    "- drawing black image\n",
    "- drawing black and white images"
   ]
  },
  {
   "cell_type": "code",
   "execution_count": 1,
   "metadata": {
    "ExecuteTime": {
     "end_time": "2020-09-30T17:50:08.799906Z",
     "start_time": "2020-09-30T17:50:08.633611Z"
    }
   },
   "outputs": [],
   "source": [
    "import numpy as np\n",
    "import cv2\n",
    "import os"
   ]
  },
  {
   "cell_type": "markdown",
   "metadata": {},
   "source": [
    "- opencv-brg\n",
    "- matploy-rgb"
   ]
  },
  {
   "cell_type": "code",
   "execution_count": 2,
   "metadata": {
    "ExecuteTime": {
     "end_time": "2020-09-30T17:50:10.022825Z",
     "start_time": "2020-09-30T17:50:10.017837Z"
    }
   },
   "outputs": [],
   "source": [
    "image=np.ones((512,512,3),np.uint8) #3 is here channel R,g,b\n",
    "image_bw=np.zeros((512,512),np.uint8)  #bydefault chanel is 1 ie grayscale"
   ]
  },
  {
   "cell_type": "code",
   "execution_count": null,
   "metadata": {
    "ExecuteTime": {
     "end_time": "2020-09-30T17:50:19.718294Z",
     "start_time": "2020-09-30T17:50:19.709318Z"
    }
   },
   "outputs": [],
   "source": []
  },
  {
   "cell_type": "code",
   "execution_count": null,
   "metadata": {
    "ExecuteTime": {
     "end_time": "2020-09-30T17:50:26.763627Z",
     "start_time": "2020-09-30T17:50:26.758640Z"
    }
   },
   "outputs": [],
   "source": []
  },
  {
   "cell_type": "code",
   "execution_count": 5,
   "metadata": {
    "ExecuteTime": {
     "end_time": "2020-09-30T17:50:38.010878Z",
     "start_time": "2020-09-30T17:50:36.068113Z"
    }
   },
   "outputs": [],
   "source": [
    "cv2.imshow(\"black_image\",image)\n",
    "cv2.waitKey(0)\n",
    "cv2.destroyAllWindows()"
   ]
  },
  {
   "cell_type": "markdown",
   "metadata": {
    "ExecuteTime": {
     "start_time": "2020-06-30T04:48:50.037Z"
    }
   },
   "source": [
    "## 1. Drawing a line\n",
    "cv2.line(image,starting coordinate,ending coordinates,color,thickness)"
   ]
  },
  {
   "cell_type": "code",
   "execution_count": 8,
   "metadata": {
    "ExecuteTime": {
     "end_time": "2020-07-09T22:55:13.045902Z",
     "start_time": "2020-07-09T22:55:10.729717Z"
    }
   },
   "outputs": [],
   "source": []
  },
  {
   "cell_type": "code",
   "execution_count": 11,
   "metadata": {
    "ExecuteTime": {
     "end_time": "2020-09-30T17:53:14.710647Z",
     "start_time": "2020-09-30T17:53:09.082910Z"
    }
   },
   "outputs": [],
   "source": [
    "image=np.ones((512,512,3),np.uint8)\n",
    "cv2.line(image,(10,10),(230,230),(255,0,0),10)\n",
    "cv2.imshow(\"output\",image)\n",
    "cv2.waitKey(0)\n",
    "cv2.destroyAllWindows()"
   ]
  },
  {
   "cell_type": "markdown",
   "metadata": {},
   "source": [
    "## 2. Drawing a rect\n",
    "cv2.line(image,starting vertex,opposite vertex,color,thickness)"
   ]
  },
  {
   "cell_type": "code",
   "execution_count": 12,
   "metadata": {
    "ExecuteTime": {
     "end_time": "2020-09-30T17:53:22.833330Z",
     "start_time": "2020-09-30T17:53:21.452116Z"
    }
   },
   "outputs": [],
   "source": [
    "image=np.ones((512,512,3),np.uint8)\n",
    "cv2.rectangle(image,(5,7),(230,230),(0,255,0),10)\n",
    "cv2.imshow(\"abc\",image)\n",
    "cv2.waitKey(0)\n",
    "cv2.destroyAllWindows()"
   ]
  },
  {
   "cell_type": "markdown",
   "metadata": {},
   "source": [
    "## 3. Drawing a circle\n",
    "cv2.circle(image,center,radius,color,thickness)"
   ]
  },
  {
   "cell_type": "code",
   "execution_count": 16,
   "metadata": {
    "ExecuteTime": {
     "end_time": "2020-09-30T17:53:51.132286Z",
     "start_time": "2020-09-30T17:53:50.295354Z"
    }
   },
   "outputs": [],
   "source": [
    "image=np.ones((512,512,3),np.uint8)\n",
    "cv2.circle(image,(150,150),100,(0,255,0),10)\n",
    "cv2.imshow(\"abc\",image)\n",
    "cv2.waitKey(0)\n",
    "cv2.destroyAllWindows()"
   ]
  },
  {
   "cell_type": "code",
   "execution_count": 17,
   "metadata": {
    "ExecuteTime": {
     "end_time": "2020-09-30T17:53:54.800360Z",
     "start_time": "2020-09-30T17:53:54.011671Z"
    }
   },
   "outputs": [],
   "source": [
    "image=np.ones((512,512,3),np.uint8)\n",
    "cv2.circle(image,(350,350),100,(0,255,0),-1) #-1 for filled circle\n",
    "cv2.imshow(\"abc\",image)\n",
    "cv2.waitKey(0)\n",
    "cv2.destroyAllWindows()"
   ]
  },
  {
   "cell_type": "markdown",
   "metadata": {},
   "source": [
    "## 4. Drawing a polygon\n"
   ]
  },
  {
   "cell_type": "code",
   "execution_count": 18,
   "metadata": {
    "ExecuteTime": {
     "end_time": "2020-09-30T17:53:57.978505Z",
     "start_time": "2020-09-30T17:53:57.115223Z"
    }
   },
   "outputs": [],
   "source": [
    "image=np.ones((512,512,3),np.uint8)*255\n",
    "pts=np.array([[10,50],[400,50],[90,200],[50,400]],np.int32)\n",
    "pts=pts.reshape((-1,1,2))\n",
    "cv2.polylines(image,[pts],True,(0,0,255),3) #false witj give open polygon\n",
    "cv2.imshow(\"abc\",image)\n",
    "cv2.waitKey(0)\n",
    "cv2.destroyAllWindows()"
   ]
  },
  {
   "cell_type": "code",
   "execution_count": null,
   "metadata": {},
   "outputs": [],
   "source": []
  },
  {
   "cell_type": "markdown",
   "metadata": {},
   "source": [
    "## 5. Putting text inside the image\n",
    "cv2.putText(image,\"text\",bottom left starting point,font,font size,color,thickness"
   ]
  },
  {
   "cell_type": "code",
   "execution_count": 19,
   "metadata": {
    "ExecuteTime": {
     "end_time": "2020-09-30T17:54:04.185328Z",
     "start_time": "2020-09-30T17:54:02.026466Z"
    }
   },
   "outputs": [],
   "source": [
    "image=np.ones((512,512,3),np.uint8)*200\n",
    "cv2.putText(image,\"hello\",(20,190),cv2.FONT_HERSHEY_COMPLEX,2,(0,0,255),3) \n",
    "cv2.imshow(\"abc\",image)\n",
    "cv2.waitKey(0)\n",
    "cv2.destroyAllWindows()"
   ]
  },
  {
   "cell_type": "markdown",
   "metadata": {},
   "source": [
    "## Camera setup"
   ]
  },
  {
   "cell_type": "code",
   "execution_count": 20,
   "metadata": {
    "ExecuteTime": {
     "end_time": "2020-09-30T17:54:40.052449Z",
     "start_time": "2020-09-30T17:54:06.849460Z"
    }
   },
   "outputs": [],
   "source": [
    "capture=cv2.VideoCapture(0)\n",
    "\n",
    "while True:\n",
    "    ret,frame=capture.read()\n",
    "    frame= cv2.cvtColor(frame,cv2.COLOR_BGR2GRAY) #to convert image to grayscale\n",
    "    cv2.imshow(\"output\",frame)\n",
    "    if cv2.waitKey(1) & 0xff==ord('q'): # 1 for continuous frame\n",
    "        #ord for pressing q key\n",
    "        break\n",
    "        \n",
    "capture.release()\n",
    "cv2.destroyAllWindows()"
   ]
  },
  {
   "cell_type": "markdown",
   "metadata": {},
   "source": [
    "# Voila Jones Algorithm\n",
    "- 1) Haar Features   Line  Edge  Rectangle\n",
    "- 2) Integral Image\n",
    "- 3) Adaboosting\n",
    "- 4) Cascade Classifier\n"
   ]
  },
  {
   "cell_type": "markdown",
   "metadata": {},
   "source": [
    "# Face Recognition"
   ]
  },
  {
   "cell_type": "code",
   "execution_count": 21,
   "metadata": {
    "ExecuteTime": {
     "end_time": "2020-09-30T17:54:47.142819Z",
     "start_time": "2020-09-30T17:54:42.670573Z"
    }
   },
   "outputs": [],
   "source": [
    "face_cascade=cv2.CascadeClassifier(\"haarcascade_frontalface_default.xml\")\n",
    "\n",
    "def detect_face(image):\n",
    "    face_copy=image.copy()\n",
    "    face_rects=face_cascade.detectMultiScale(face_copy,1.3,5)\n",
    "    for (x,y,w,h) in face_rects:\n",
    "        cv2.rectangle(face_copy,(x,y),(x+w,y+h),(0,0,255),5)\n",
    "    return face_copy\n",
    "\n",
    "capture=cv2.VideoCapture(0)\n",
    "\n",
    "while True:\n",
    "    ret,frame=capture.read()\n",
    "    frame= cv2.cvtColor(frame,cv2.COLOR_BGR2GRAY) #to convert image to grayscale\n",
    "    output=detect_face(frame)\n",
    "    cv2.imshow(\"output\",output)\n",
    "    if cv2.waitKey(1) & 0xff==ord('q'): # 1 for continuous frame\n",
    "        #ord for pressing q key\n",
    "        break\n",
    "        \n",
    "capture.release()\n",
    "cv2.destroyAllWindows()"
   ]
  },
  {
   "cell_type": "markdown",
   "metadata": {},
   "source": [
    "# Eye Detection"
   ]
  },
  {
   "cell_type": "code",
   "execution_count": 22,
   "metadata": {
    "ExecuteTime": {
     "end_time": "2020-09-30T17:54:58.741144Z",
     "start_time": "2020-09-30T17:54:48.952769Z"
    }
   },
   "outputs": [],
   "source": [
    "eye_cascade=cv2.CascadeClassifier(\"haarcascade_eye.xml\")\n",
    "\n",
    "def detect_eye(image):\n",
    "    eye_copy=image.copy()\n",
    "    eye_rects=eye_cascade.detectMultiScale(eye_copy,1.1,10)\n",
    "    for (x,y,w,h) in eye_rects:\n",
    "        cv2.rectangle(eye_copy,(x,y),(x+w,y+h),(0,0,255),5)\n",
    "    return eye_copy\n",
    "capture=cv2.VideoCapture(0)\n",
    "while True:\n",
    "    ret,frame=capture.read()\n",
    "    frame=cv2.cvtColor(frame,cv2.COLOR_BGR2GRAY)\n",
    "    output=detect_eye(frame)\n",
    "    cv2.imshow(\"output\",output)\n",
    "    if cv2.waitKey(1) & 0xff==ord('q'):\n",
    "        break\n",
    "capture.release()\n",
    "cv2.destroyAllWindows()"
   ]
  },
  {
   "cell_type": "markdown",
   "metadata": {},
   "source": [
    "# Smile Detection"
   ]
  },
  {
   "cell_type": "code",
   "execution_count": 23,
   "metadata": {
    "ExecuteTime": {
     "end_time": "2020-09-30T17:55:31.025171Z",
     "start_time": "2020-09-30T17:55:01.048348Z"
    }
   },
   "outputs": [],
   "source": [
    "smile_cascade=cv2.CascadeClassifier(\"haarcascade_smile.xml\")\n",
    "\n",
    "def detect_smile(image):\n",
    "    smile_copy=image.copy()\n",
    "    smile_rects=smile_cascade.detectMultiScale(smile_copy,1.7,22)\n",
    "    for (x,y,w,h) in smile_rects:\n",
    "        cv2.rectangle(smile_copy,(x,y),(x+w,y+h),(0,0,255),5)\n",
    "    return smile_copy\n",
    "capture=cv2.VideoCapture(0)\n",
    "\n",
    "while True:\n",
    "    ret,frame=capture.read()\n",
    "    #frame=cv2.cvtColor(frame,cv2.COLOR_BGR2GRAY)\n",
    "    output=detect_smile(frame)\n",
    "    cv2.imshow(\"output\",output)\n",
    "    if cv2.waitKey(1) & 0xff==ord('q'):\n",
    "        break\n",
    "        \n",
    "capture.release()\n",
    "cv2.destroyAllWindows()"
   ]
  },
  {
   "cell_type": "markdown",
   "metadata": {},
   "source": [
    "# Face, Eye and smile detection"
   ]
  },
  {
   "cell_type": "code",
   "execution_count": 24,
   "metadata": {
    "ExecuteTime": {
     "end_time": "2020-09-30T17:55:42.664665Z",
     "start_time": "2020-09-30T17:55:33.676212Z"
    }
   },
   "outputs": [],
   "source": [
    "face_cascade=cv2.CascadeClassifier(\"haarcascade_frontalface_default.xml\")\n",
    "eye_cascade=cv2.CascadeClassifier(\"haarcascade_eye.xml\")\n",
    "smile_cascade= cv2.CascadeClassifier(\"haarcascade_smile.xml\")\n",
    "def detect_eye(image):\n",
    "    face_copy=image.copy()\n",
    "    face_rects=face_cascade.detectMultiScale(face_copy,1.3,5)\n",
    "    for (x,y,w,h) in face_rects:\n",
    "        cv2.rectangle(face_copy,(x,y),(x+w,y+h),(0,255,0),3)\n",
    "        \n",
    "        roi_frame=face_copy[y:y+h,x:x+w]\n",
    "        eye_rects=eye_cascade.detectMultiScale(roi_frame,1.1,10)\n",
    "        for (ex,ey,ew,eh) in eye_rects:\n",
    "            cv2.rectangle(roi_frame,(ex,ey),(ex+ew,ey+eh),(0,255,0),3)\n",
    "        \n",
    "        smile_rects=smile_cascade.detectMultiScale(roi_frame,1.7,22)\n",
    "        for(sx,sy,sw,sh) in smile_rects:\n",
    "            cv2.rectangle(roi_frame,(sx,sy),(sx+sw,sy+sh),(255,0,0),5)    \n",
    "    \n",
    "    return face_copy\n",
    "capture=cv2.VideoCapture(0)\n",
    "\n",
    "while True:\n",
    "    ret,frame=capture.read()\n",
    "    #frame= cv2.cvtColor(frame,cv2.COLOR_BGR2GRAY) \n",
    "    output=detect_eye(frame)\n",
    "    cv2.imshow(\"output\",output)\n",
    "    if cv2.waitKey(1) & 0xff==ord('q'): \n",
    "        break\n",
    "        \n",
    "capture.release()\n",
    "cv2.destroyAllWindows()"
   ]
  },
  {
   "cell_type": "markdown",
   "metadata": {},
   "source": [
    "# Number Plate Detection"
   ]
  },
  {
   "cell_type": "code",
   "execution_count": 25,
   "metadata": {
    "ExecuteTime": {
     "end_time": "2020-09-30T17:55:51.259458Z",
     "start_time": "2020-09-30T17:55:49.318257Z"
    }
   },
   "outputs": [],
   "source": [
    "def detect_plate(image):\n",
    "    plate_cascade=cv2.CascadeClassifier(\"haarcascade_russian_plate_number.xml\")\n",
    "    plate_copy=image.copy()\n",
    "    plate_rects=plate_cascade.detectMultiScale(plate_copy,1.1,3)\n",
    "    for (x,y,w,h) in plate_rects:\n",
    "        cv2.rectangle(plate_copy,(x,y),(x+w,y+h),(0,0,255),3)\n",
    "    return plate_copy      \n",
    "\n",
    "image=cv2.imread(\"car 2.jpg\")\n",
    "output=detect_plate(image)\n",
    "cv2.imshow(\"output\",output)\n",
    "cv2.waitKey(0)\n",
    "cv2.destroyAllWindows()"
   ]
  },
  {
   "cell_type": "code",
   "execution_count": 26,
   "metadata": {
    "ExecuteTime": {
     "end_time": "2020-09-30T17:55:54.008695Z",
     "start_time": "2020-09-30T17:55:51.783134Z"
    }
   },
   "outputs": [],
   "source": [
    "image=cv2.imread(\"car 2.jpg\")\n",
    "cv2.imshow(\"output\",image)\n",
    "cv2.waitKey(0)\n",
    "cv2.destroyAllWindows()"
   ]
  },
  {
   "cell_type": "code",
   "execution_count": 27,
   "metadata": {
    "ExecuteTime": {
     "end_time": "2020-09-30T17:55:55.514499Z",
     "start_time": "2020-09-30T17:55:54.345214Z"
    }
   },
   "outputs": [],
   "source": [
    "output=detect_plate(image)\n",
    "cv2.imshow(\"output\",output)\n",
    "cv2.waitKey(0)\n",
    "cv2.destroyAllWindows()"
   ]
  },
  {
   "cell_type": "markdown",
   "metadata": {},
   "source": [
    "# Blurring Number plate of a car"
   ]
  },
  {
   "cell_type": "code",
   "execution_count": 28,
   "metadata": {
    "ExecuteTime": {
     "end_time": "2020-09-30T17:55:57.933878Z",
     "start_time": "2020-09-30T17:55:56.477200Z"
    }
   },
   "outputs": [],
   "source": [
    "def detect_plate(image):\n",
    "    plate_cascade=cv2.CascadeClassifier(\"haarcascade_russian_plate_number.xml\")\n",
    "    plate_copy=image.copy()\n",
    "    plate_rects=plate_cascade.detectMultiScale(plate_copy,1.1,3)\n",
    "    for (x,y,w,h) in plate_rects:\n",
    "        roi=plate_copy[y:y+h,x:x+w]\n",
    "        blurr=cv2.medianBlur(roi,101) #it should be odd and greater than one\n",
    "        plate_copy[y:y+h,x:x+w]=blurr\n",
    "        #cv2.rectangle(plate_copy,(x,y),(x+w,y+h),(0,0,255),3)\n",
    "    return plate_copy\n",
    "\n",
    "image=cv2.imread(\"car 2.jpg\")\n",
    "output=detect_plate(image)\n",
    "cv2.imshow(\"output\",output)\n",
    "cv2.waitKey(0)\n",
    "cv2.destroyAllWindows()"
   ]
  },
  {
   "cell_type": "markdown",
   "metadata": {},
   "source": [
    "# Blurring face"
   ]
  },
  {
   "cell_type": "code",
   "execution_count": 29,
   "metadata": {
    "ExecuteTime": {
     "end_time": "2020-09-30T17:56:10.314850Z",
     "start_time": "2020-09-30T17:55:58.947656Z"
    }
   },
   "outputs": [],
   "source": [
    "face_cascade=cv2.CascadeClassifier(\"haarcascade_frontalface_default.xml\")\n",
    "\n",
    "def detect_face(image):\n",
    "    face_copy=image.copy()\n",
    "    face_rects=face_cascade.detectMultiScale(face_copy,1.3,5)\n",
    "    for (x,y,w,h) in face_rects:\n",
    "        roi=face_copy[y:y+h,x:x+w]\n",
    "        blurr=cv2.medianBlur(roi,101)\n",
    "        face_copy[y:y+h,x:x+w]=blurr\n",
    "    return face_copy\n",
    "capture=cv2.VideoCapture(0)\n",
    "\n",
    "while True:\n",
    "    ret,frame=capture.read()\n",
    "    frame=cv2.cvtColor(frame,cv2.COLOR_BGR2GRAY)\n",
    "    output=detect_face(frame)\n",
    "    cv2.imshow(\"output\",output)\n",
    "    if cv2.waitKey(1) & 0xff==ord('q'):\n",
    "        break\n",
    "        \n",
    "capture.release()\n",
    "cv2.destroyAllWindows()"
   ]
  },
  {
   "cell_type": "code",
   "execution_count": null,
   "metadata": {},
   "outputs": [],
   "source": []
  }
 ],
 "metadata": {
  "kernelspec": {
   "display_name": "Python 3",
   "language": "python",
   "name": "python3"
  },
  "language_info": {
   "codemirror_mode": {
    "name": "ipython",
    "version": 3
   },
   "file_extension": ".py",
   "mimetype": "text/x-python",
   "name": "python",
   "nbconvert_exporter": "python",
   "pygments_lexer": "ipython3",
   "version": "3.7.9"
  }
 },
 "nbformat": 4,
 "nbformat_minor": 4
}
